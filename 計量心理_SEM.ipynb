{
  "nbformat": 4,
  "nbformat_minor": 0,
  "metadata": {
    "colab": {
      "provenance": []
    },
    "kernelspec": {
      "name": "python3",
      "display_name": "Python 3"
    },
    "language_info": {
      "name": "python"
    }
  },
  "cells": [
    {
      "cell_type": "code",
      "execution_count": 1,
      "metadata": {
        "colab": {
          "base_uri": "https://localhost:8080/",
          "height": 406
        },
        "id": "r9zVdXS4Ae8N",
        "outputId": "bc38098d-822a-4635-eb84-3d847e4f32dc"
      },
      "outputs": [
        {
          "output_type": "error",
          "ename": "ModuleNotFoundError",
          "evalue": "No module named 'semopy'",
          "traceback": [
            "\u001b[0;31m---------------------------------------------------------------------------\u001b[0m",
            "\u001b[0;31mModuleNotFoundError\u001b[0m                       Traceback (most recent call last)",
            "\u001b[0;32m/tmp/ipython-input-1-348263506.py\u001b[0m in \u001b[0;36m<cell line: 0>\u001b[0;34m()\u001b[0m\n\u001b[1;32m      1\u001b[0m \u001b[0;32mimport\u001b[0m \u001b[0mpandas\u001b[0m \u001b[0;32mas\u001b[0m \u001b[0mpd\u001b[0m\u001b[0;34m\u001b[0m\u001b[0;34m\u001b[0m\u001b[0m\n\u001b[0;32m----> 2\u001b[0;31m \u001b[0;32mfrom\u001b[0m \u001b[0msemopy\u001b[0m \u001b[0;32mimport\u001b[0m \u001b[0mModel\u001b[0m\u001b[0;34m,\u001b[0m \u001b[0mcalc_stats\u001b[0m\u001b[0;34m,\u001b[0m \u001b[0msemplot\u001b[0m\u001b[0;34m\u001b[0m\u001b[0;34m\u001b[0m\u001b[0m\n\u001b[0m\u001b[1;32m      3\u001b[0m \u001b[0;34m\u001b[0m\u001b[0m\n\u001b[1;32m      4\u001b[0m \u001b[0;34m\u001b[0m\u001b[0m\n\u001b[1;32m      5\u001b[0m \u001b[0;31m# モデル記述：潜在変数名は英語、観測変数は e1〜e6\u001b[0m\u001b[0;34m\u001b[0m\u001b[0;34m\u001b[0m\u001b[0m\n",
            "\u001b[0;31mModuleNotFoundError\u001b[0m: No module named 'semopy'",
            "",
            "\u001b[0;31m---------------------------------------------------------------------------\u001b[0;32m\nNOTE: If your import is failing due to a missing package, you can\nmanually install dependencies using either !pip or !apt.\n\nTo view examples of installing some common dependencies, click the\n\"Open Examples\" button below.\n\u001b[0;31m---------------------------------------------------------------------------\u001b[0m\n"
          ],
          "errorDetails": {
            "actions": [
              {
                "action": "open_url",
                "actionText": "Open Examples",
                "url": "/notebooks/snippets/importing_libraries.ipynb"
              }
            ]
          }
        }
      ],
      "source": [
        "import pandas as pd\n",
        "from semopy import Model, calc_stats, semplot\n",
        "\n",
        "\n",
        "# モデル記述：潜在変数名は英語、観測変数は e1〜e6\n",
        "MODEL_DESC = \"\"\"\n",
        "# 測定モデル\n",
        "InterestInGrad =~ V10 + V11\n",
        "将来に対する関心 =~ V4 + V5 + V7 +V9\n",
        "CuriosityInResearch =~ V1 + V2 + V6\n",
        "\n",
        "# 構造モデル\n",
        "InterestInGrad ~ 将来に対する関心 + CuriosityInResearch\n",
        "CuriosityInResearch ~ 将来に対する関心\n",
        "\"\"\"\n",
        "\n",
        "\n",
        "def run_sem(data_path: str, diagram_path: str = None):\n",
        "    \"\"\"\n",
        "    SEM（共分散構造分析）を実行して、結果と適合度指標を出力する。\n",
        "\n",
        "    Parameters:\n",
        "        data_path (str): CSVファイルのパス（e1〜e6の列を含む）\n",
        "        diagram_path (str, optional): パス図の保存先（例: \"model.png\"）\n",
        "    \"\"\"\n",
        "    # データ読み込み\n",
        "    df = pd.read_csv(data_path)\n",
        "\n",
        "    # # 欠損値除去（必要なら）\n",
        "    # df = df.dropna()\n",
        "\n",
        "    # モデルの構築とフィッティング\n",
        "    model = Model(MODEL_DESC)\n",
        "    model.fit(df)\n",
        "\n",
        "    # パス係数（推定値）の出力\n",
        "    print(\"\\n=== Parameter Estimates ===\")\n",
        "    print(model.inspect())\n",
        "\n",
        "    # 適合度指標の出力\n",
        "    print(\"\\n=== Fit Statistics ===\")\n",
        "    stats = calc_stats(model)\n",
        "    print(stats)\n",
        "\n",
        "    # パス図の保存（オプション）\n",
        "    if diagram_path:\n",
        "        semplot(model, diagram_path)\n",
        "        print(f\"\\nModel diagram saved to: {diagram_path}\")\n",
        "\n",
        "\n",
        "def main():\n",
        "    # データファイルのパス（例：e1〜e6が入ったCSV）\n",
        "    data_file = \"data.csv\"  # 例：columns=[\"e1\", \"e2\", ..., \"e6\"]\n",
        "\n",
        "    # パス図を保存する場合（不要なら None）\n",
        "    output_diagram = \"sem_diagram3.png\"\n",
        "\n",
        "    # 分析実行\n",
        "    run_sem(data_file, output_diagram)\n",
        "\n",
        "\n",
        "if __name__ == \"__main__\":\n",
        "    main()"
      ]
    }
  ]
}